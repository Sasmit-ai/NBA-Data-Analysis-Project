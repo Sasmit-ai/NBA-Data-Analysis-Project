{
 "cells": [
  {
   "cell_type": "markdown",
   "source": [
    "## Loading Packages"
   ],
   "metadata": {
    "collapsed": false
   }
  },
  {
   "cell_type": "code",
   "execution_count": 2,
   "metadata": {
    "collapsed": true
   },
   "outputs": [],
   "source": [
    "import numpy as np\n",
    "import pandas as pd\n",
    "import re\n",
    "import warnings\n",
    "\n",
    "import seaborn as sn\n",
    "import matplotlib.pyplot as plt\n",
    "\n",
    "pd.set_option('display.max_columns', None)"
   ]
  },
  {
   "cell_type": "markdown",
   "source": [
    "## Loading Datasets"
   ],
   "metadata": {
    "collapsed": false
   }
  },
  {
   "cell_type": "code",
   "execution_count": 3,
   "outputs": [
    {
     "name": "stderr",
     "output_type": "stream",
     "text": [
      "C:\\ProgramData\\Anaconda3\\lib\\site-packages\\IPython\\core\\interactiveshell.py:3165: DtypeWarning: Columns (6) have mixed types.Specify dtype option on import or set low_memory=False.\n",
      "  has_raised = await self.run_ast_nodes(code_ast.body, cell_name,\n"
     ]
    }
   ],
   "source": [
    "df = pd.read_csv(\"Datasets/games_details.csv\")\n",
    "seasons = pd.read_csv(\"Datasets/games.csv\")[[\"GAME_ID\", \"SEASON\"]]"
   ],
   "metadata": {
    "collapsed": false,
    "pycharm": {
     "name": "#%%\n"
    }
   }
  },
  {
   "cell_type": "markdown",
   "source": [
    "## Data Overview"
   ],
   "metadata": {
    "collapsed": false
   }
  },
  {
   "cell_type": "code",
   "execution_count": 4,
   "outputs": [
    {
     "data": {
      "text/plain": "    GAME_ID     TEAM_ID TEAM_ABBREVIATION   TEAM_CITY  PLAYER_ID  \\\n0  22100213  1610612764               WAS  Washington     203484   \n1  22100213  1610612764               WAS  Washington    1628398   \n2  22100213  1610612764               WAS  Washington    1629655   \n3  22100213  1610612764               WAS  Washington     203078   \n4  22100213  1610612764               WAS  Washington     203915   \n\n                PLAYER_NAME    NICKNAME START_POSITION COMMENT    MIN  FGM  \\\n0  Kentavious Caldwell-Pope  Kentavious              F     NaN  27:41  1.0   \n1                Kyle Kuzma        Kyle              F     NaN  30:28  2.0   \n2            Daniel Gafford      Daniel              C     NaN  24:21  9.0   \n3              Bradley Beal     Bradley              G     NaN  35:07  9.0   \n4         Spencer Dinwiddie     Spencer              G     NaN  28:34  0.0   \n\n    FGA  FG_PCT  FG3M  FG3A  FG3_PCT  FTM  FTA  FT_PCT  OREB  DREB  REB  AST  \\\n0   6.0   0.167   0.0   5.0    0.000  1.0  1.0     1.0   1.0   5.0  6.0  2.0   \n1  12.0   0.167   1.0   8.0    0.125  0.0  0.0     0.0   1.0   4.0  5.0  3.0   \n2  12.0   0.750   0.0   0.0    0.000  2.0  5.0     0.4   2.0   7.0  9.0  1.0   \n3  20.0   0.450   5.0  11.0    0.455  1.0  1.0     1.0   0.0   3.0  3.0  7.0   \n4   5.0   0.000   0.0   4.0    0.000  0.0  0.0     0.0   0.0   3.0  3.0  2.0   \n\n   STL  BLK   TO   PF   PTS  PLUS_MINUS  \n0  1.0  0.0  1.0  0.0   3.0         2.0  \n1  1.0  2.0  1.0  1.0   5.0       -14.0  \n2  2.0  1.0  1.0  4.0  20.0        -2.0  \n3  2.0  0.0  2.0  3.0  24.0        -9.0  \n4  0.0  0.0  2.0  1.0   0.0        -5.0  ",
      "text/html": "<div>\n<style scoped>\n    .dataframe tbody tr th:only-of-type {\n        vertical-align: middle;\n    }\n\n    .dataframe tbody tr th {\n        vertical-align: top;\n    }\n\n    .dataframe thead th {\n        text-align: right;\n    }\n</style>\n<table border=\"1\" class=\"dataframe\">\n  <thead>\n    <tr style=\"text-align: right;\">\n      <th></th>\n      <th>GAME_ID</th>\n      <th>TEAM_ID</th>\n      <th>TEAM_ABBREVIATION</th>\n      <th>TEAM_CITY</th>\n      <th>PLAYER_ID</th>\n      <th>PLAYER_NAME</th>\n      <th>NICKNAME</th>\n      <th>START_POSITION</th>\n      <th>COMMENT</th>\n      <th>MIN</th>\n      <th>FGM</th>\n      <th>FGA</th>\n      <th>FG_PCT</th>\n      <th>FG3M</th>\n      <th>FG3A</th>\n      <th>FG3_PCT</th>\n      <th>FTM</th>\n      <th>FTA</th>\n      <th>FT_PCT</th>\n      <th>OREB</th>\n      <th>DREB</th>\n      <th>REB</th>\n      <th>AST</th>\n      <th>STL</th>\n      <th>BLK</th>\n      <th>TO</th>\n      <th>PF</th>\n      <th>PTS</th>\n      <th>PLUS_MINUS</th>\n    </tr>\n  </thead>\n  <tbody>\n    <tr>\n      <th>0</th>\n      <td>22100213</td>\n      <td>1610612764</td>\n      <td>WAS</td>\n      <td>Washington</td>\n      <td>203484</td>\n      <td>Kentavious Caldwell-Pope</td>\n      <td>Kentavious</td>\n      <td>F</td>\n      <td>NaN</td>\n      <td>27:41</td>\n      <td>1.0</td>\n      <td>6.0</td>\n      <td>0.167</td>\n      <td>0.0</td>\n      <td>5.0</td>\n      <td>0.000</td>\n      <td>1.0</td>\n      <td>1.0</td>\n      <td>1.0</td>\n      <td>1.0</td>\n      <td>5.0</td>\n      <td>6.0</td>\n      <td>2.0</td>\n      <td>1.0</td>\n      <td>0.0</td>\n      <td>1.0</td>\n      <td>0.0</td>\n      <td>3.0</td>\n      <td>2.0</td>\n    </tr>\n    <tr>\n      <th>1</th>\n      <td>22100213</td>\n      <td>1610612764</td>\n      <td>WAS</td>\n      <td>Washington</td>\n      <td>1628398</td>\n      <td>Kyle Kuzma</td>\n      <td>Kyle</td>\n      <td>F</td>\n      <td>NaN</td>\n      <td>30:28</td>\n      <td>2.0</td>\n      <td>12.0</td>\n      <td>0.167</td>\n      <td>1.0</td>\n      <td>8.0</td>\n      <td>0.125</td>\n      <td>0.0</td>\n      <td>0.0</td>\n      <td>0.0</td>\n      <td>1.0</td>\n      <td>4.0</td>\n      <td>5.0</td>\n      <td>3.0</td>\n      <td>1.0</td>\n      <td>2.0</td>\n      <td>1.0</td>\n      <td>1.0</td>\n      <td>5.0</td>\n      <td>-14.0</td>\n    </tr>\n    <tr>\n      <th>2</th>\n      <td>22100213</td>\n      <td>1610612764</td>\n      <td>WAS</td>\n      <td>Washington</td>\n      <td>1629655</td>\n      <td>Daniel Gafford</td>\n      <td>Daniel</td>\n      <td>C</td>\n      <td>NaN</td>\n      <td>24:21</td>\n      <td>9.0</td>\n      <td>12.0</td>\n      <td>0.750</td>\n      <td>0.0</td>\n      <td>0.0</td>\n      <td>0.000</td>\n      <td>2.0</td>\n      <td>5.0</td>\n      <td>0.4</td>\n      <td>2.0</td>\n      <td>7.0</td>\n      <td>9.0</td>\n      <td>1.0</td>\n      <td>2.0</td>\n      <td>1.0</td>\n      <td>1.0</td>\n      <td>4.0</td>\n      <td>20.0</td>\n      <td>-2.0</td>\n    </tr>\n    <tr>\n      <th>3</th>\n      <td>22100213</td>\n      <td>1610612764</td>\n      <td>WAS</td>\n      <td>Washington</td>\n      <td>203078</td>\n      <td>Bradley Beal</td>\n      <td>Bradley</td>\n      <td>G</td>\n      <td>NaN</td>\n      <td>35:07</td>\n      <td>9.0</td>\n      <td>20.0</td>\n      <td>0.450</td>\n      <td>5.0</td>\n      <td>11.0</td>\n      <td>0.455</td>\n      <td>1.0</td>\n      <td>1.0</td>\n      <td>1.0</td>\n      <td>0.0</td>\n      <td>3.0</td>\n      <td>3.0</td>\n      <td>7.0</td>\n      <td>2.0</td>\n      <td>0.0</td>\n      <td>2.0</td>\n      <td>3.0</td>\n      <td>24.0</td>\n      <td>-9.0</td>\n    </tr>\n    <tr>\n      <th>4</th>\n      <td>22100213</td>\n      <td>1610612764</td>\n      <td>WAS</td>\n      <td>Washington</td>\n      <td>203915</td>\n      <td>Spencer Dinwiddie</td>\n      <td>Spencer</td>\n      <td>G</td>\n      <td>NaN</td>\n      <td>28:34</td>\n      <td>0.0</td>\n      <td>5.0</td>\n      <td>0.000</td>\n      <td>0.0</td>\n      <td>4.0</td>\n      <td>0.000</td>\n      <td>0.0</td>\n      <td>0.0</td>\n      <td>0.0</td>\n      <td>0.0</td>\n      <td>3.0</td>\n      <td>3.0</td>\n      <td>2.0</td>\n      <td>0.0</td>\n      <td>0.0</td>\n      <td>2.0</td>\n      <td>1.0</td>\n      <td>0.0</td>\n      <td>-5.0</td>\n    </tr>\n  </tbody>\n</table>\n</div>"
     },
     "execution_count": 4,
     "metadata": {},
     "output_type": "execute_result"
    }
   ],
   "source": [
    "df.head()"
   ],
   "metadata": {
    "collapsed": false,
    "pycharm": {
     "name": "#%%\n"
    }
   }
  },
  {
   "cell_type": "code",
   "execution_count": 5,
   "outputs": [
    {
     "name": "stdout",
     "output_type": "stream",
     "text": [
      "<class 'pandas.core.frame.DataFrame'>\n",
      "RangeIndex: 626111 entries, 0 to 626110\n",
      "Data columns (total 29 columns):\n",
      " #   Column             Non-Null Count   Dtype  \n",
      "---  ------             --------------   -----  \n",
      " 0   GAME_ID            626111 non-null  int64  \n",
      " 1   TEAM_ID            626111 non-null  int64  \n",
      " 2   TEAM_ABBREVIATION  626111 non-null  object \n",
      " 3   TEAM_CITY          626111 non-null  object \n",
      " 4   PLAYER_ID          626111 non-null  int64  \n",
      " 5   PLAYER_NAME        626111 non-null  object \n",
      " 6   NICKNAME           10485 non-null   object \n",
      " 7   START_POSITION     239375 non-null  object \n",
      " 8   COMMENT            102359 non-null  object \n",
      " 9   MIN                523751 non-null  object \n",
      " 10  FGM                523751 non-null  float64\n",
      " 11  FGA                523751 non-null  float64\n",
      " 12  FG_PCT             523751 non-null  float64\n",
      " 13  FG3M               523751 non-null  float64\n",
      " 14  FG3A               523751 non-null  float64\n",
      " 15  FG3_PCT            523751 non-null  float64\n",
      " 16  FTM                523751 non-null  float64\n",
      " 17  FTA                523751 non-null  float64\n",
      " 18  FT_PCT             523751 non-null  float64\n",
      " 19  OREB               523751 non-null  float64\n",
      " 20  DREB               523751 non-null  float64\n",
      " 21  REB                523751 non-null  float64\n",
      " 22  AST                523751 non-null  float64\n",
      " 23  STL                523751 non-null  float64\n",
      " 24  BLK                523751 non-null  float64\n",
      " 25  TO                 523751 non-null  float64\n",
      " 26  PF                 523751 non-null  float64\n",
      " 27  PTS                523751 non-null  float64\n",
      " 28  PLUS_MINUS         500090 non-null  float64\n",
      "dtypes: float64(19), int64(3), object(7)\n",
      "memory usage: 138.5+ MB\n"
     ]
    }
   ],
   "source": [
    "df.info()"
   ],
   "metadata": {
    "collapsed": false,
    "pycharm": {
     "name": "#%%\n"
    }
   }
  },
  {
   "cell_type": "markdown",
   "source": [
    "## Data Cleaning\n"
   ],
   "metadata": {
    "collapsed": false
   }
  },
  {
   "cell_type": "markdown",
   "source": [
    "removing the game_id,team_id, player_ids from the stats"
   ],
   "metadata": {
    "collapsed": false
   }
  },
  {
   "cell_type": "code",
   "execution_count": 6,
   "outputs": [
    {
     "data": {
      "text/plain": "               count      mean        std   min   25%    50%     75%   max\nFGM         523751.0  3.574498   3.019116   0.0  1.00  3.000   5.000  28.0\nFGA         523751.0  7.878062   5.657840   0.0  3.00  7.000  11.000  50.0\nFG_PCT      523751.0  0.415843   0.251636   0.0  0.25  0.429   0.571   1.0\nFG3M        523751.0  0.753051   1.205652   0.0  0.00  0.000   1.000  14.0\nFG3A        523751.0  2.115030   2.521680   0.0  0.00  1.000   3.000  24.0\nFG3_PCT     523751.0  0.197427   0.289293   0.0  0.00  0.000   0.375   1.0\nFTM         523751.0  1.738716   2.356272   0.0  0.00  1.000   3.000  26.0\nFTA         523751.0  2.294722   2.892114   0.0  0.00  2.000   4.000  39.0\nFT_PCT      523751.0  0.436454   0.427786   0.0  0.00  0.500   0.909   1.0\nOREB        523751.0  1.028187   1.401890   0.0  0.00  1.000   2.000  18.0\nDREB        523751.0  3.026999   2.685872   0.0  1.00  2.000   4.000  25.0\nREB         523751.0  4.055187   3.487341   0.0  1.00  3.000   6.000  31.0\nAST         523751.0  2.090360   2.469030   0.0  0.00  1.000   3.000  25.0\nSTL         523751.0  0.722950   0.974351   0.0  0.00  0.000   1.000  10.0\nBLK         523751.0  0.461782   0.865591   0.0  0.00  0.000   1.000  12.0\nTO          523751.0  1.325151   1.402568   0.0  0.00  1.000   2.000  12.0\nPF          523751.0  2.006984   1.503485   0.0  1.00  2.000   3.000  15.0\nPTS         523751.0  9.640753   8.039700   0.0  3.00  8.000  14.000  81.0\nPLUS_MINUS  500090.0 -0.000356  10.611897 -57.0 -7.00  0.000   6.000  57.0",
      "text/html": "<div>\n<style scoped>\n    .dataframe tbody tr th:only-of-type {\n        vertical-align: middle;\n    }\n\n    .dataframe tbody tr th {\n        vertical-align: top;\n    }\n\n    .dataframe thead th {\n        text-align: right;\n    }\n</style>\n<table border=\"1\" class=\"dataframe\">\n  <thead>\n    <tr style=\"text-align: right;\">\n      <th></th>\n      <th>count</th>\n      <th>mean</th>\n      <th>std</th>\n      <th>min</th>\n      <th>25%</th>\n      <th>50%</th>\n      <th>75%</th>\n      <th>max</th>\n    </tr>\n  </thead>\n  <tbody>\n    <tr>\n      <th>FGM</th>\n      <td>523751.0</td>\n      <td>3.574498</td>\n      <td>3.019116</td>\n      <td>0.0</td>\n      <td>1.00</td>\n      <td>3.000</td>\n      <td>5.000</td>\n      <td>28.0</td>\n    </tr>\n    <tr>\n      <th>FGA</th>\n      <td>523751.0</td>\n      <td>7.878062</td>\n      <td>5.657840</td>\n      <td>0.0</td>\n      <td>3.00</td>\n      <td>7.000</td>\n      <td>11.000</td>\n      <td>50.0</td>\n    </tr>\n    <tr>\n      <th>FG_PCT</th>\n      <td>523751.0</td>\n      <td>0.415843</td>\n      <td>0.251636</td>\n      <td>0.0</td>\n      <td>0.25</td>\n      <td>0.429</td>\n      <td>0.571</td>\n      <td>1.0</td>\n    </tr>\n    <tr>\n      <th>FG3M</th>\n      <td>523751.0</td>\n      <td>0.753051</td>\n      <td>1.205652</td>\n      <td>0.0</td>\n      <td>0.00</td>\n      <td>0.000</td>\n      <td>1.000</td>\n      <td>14.0</td>\n    </tr>\n    <tr>\n      <th>FG3A</th>\n      <td>523751.0</td>\n      <td>2.115030</td>\n      <td>2.521680</td>\n      <td>0.0</td>\n      <td>0.00</td>\n      <td>1.000</td>\n      <td>3.000</td>\n      <td>24.0</td>\n    </tr>\n    <tr>\n      <th>FG3_PCT</th>\n      <td>523751.0</td>\n      <td>0.197427</td>\n      <td>0.289293</td>\n      <td>0.0</td>\n      <td>0.00</td>\n      <td>0.000</td>\n      <td>0.375</td>\n      <td>1.0</td>\n    </tr>\n    <tr>\n      <th>FTM</th>\n      <td>523751.0</td>\n      <td>1.738716</td>\n      <td>2.356272</td>\n      <td>0.0</td>\n      <td>0.00</td>\n      <td>1.000</td>\n      <td>3.000</td>\n      <td>26.0</td>\n    </tr>\n    <tr>\n      <th>FTA</th>\n      <td>523751.0</td>\n      <td>2.294722</td>\n      <td>2.892114</td>\n      <td>0.0</td>\n      <td>0.00</td>\n      <td>2.000</td>\n      <td>4.000</td>\n      <td>39.0</td>\n    </tr>\n    <tr>\n      <th>FT_PCT</th>\n      <td>523751.0</td>\n      <td>0.436454</td>\n      <td>0.427786</td>\n      <td>0.0</td>\n      <td>0.00</td>\n      <td>0.500</td>\n      <td>0.909</td>\n      <td>1.0</td>\n    </tr>\n    <tr>\n      <th>OREB</th>\n      <td>523751.0</td>\n      <td>1.028187</td>\n      <td>1.401890</td>\n      <td>0.0</td>\n      <td>0.00</td>\n      <td>1.000</td>\n      <td>2.000</td>\n      <td>18.0</td>\n    </tr>\n    <tr>\n      <th>DREB</th>\n      <td>523751.0</td>\n      <td>3.026999</td>\n      <td>2.685872</td>\n      <td>0.0</td>\n      <td>1.00</td>\n      <td>2.000</td>\n      <td>4.000</td>\n      <td>25.0</td>\n    </tr>\n    <tr>\n      <th>REB</th>\n      <td>523751.0</td>\n      <td>4.055187</td>\n      <td>3.487341</td>\n      <td>0.0</td>\n      <td>1.00</td>\n      <td>3.000</td>\n      <td>6.000</td>\n      <td>31.0</td>\n    </tr>\n    <tr>\n      <th>AST</th>\n      <td>523751.0</td>\n      <td>2.090360</td>\n      <td>2.469030</td>\n      <td>0.0</td>\n      <td>0.00</td>\n      <td>1.000</td>\n      <td>3.000</td>\n      <td>25.0</td>\n    </tr>\n    <tr>\n      <th>STL</th>\n      <td>523751.0</td>\n      <td>0.722950</td>\n      <td>0.974351</td>\n      <td>0.0</td>\n      <td>0.00</td>\n      <td>0.000</td>\n      <td>1.000</td>\n      <td>10.0</td>\n    </tr>\n    <tr>\n      <th>BLK</th>\n      <td>523751.0</td>\n      <td>0.461782</td>\n      <td>0.865591</td>\n      <td>0.0</td>\n      <td>0.00</td>\n      <td>0.000</td>\n      <td>1.000</td>\n      <td>12.0</td>\n    </tr>\n    <tr>\n      <th>TO</th>\n      <td>523751.0</td>\n      <td>1.325151</td>\n      <td>1.402568</td>\n      <td>0.0</td>\n      <td>0.00</td>\n      <td>1.000</td>\n      <td>2.000</td>\n      <td>12.0</td>\n    </tr>\n    <tr>\n      <th>PF</th>\n      <td>523751.0</td>\n      <td>2.006984</td>\n      <td>1.503485</td>\n      <td>0.0</td>\n      <td>1.00</td>\n      <td>2.000</td>\n      <td>3.000</td>\n      <td>15.0</td>\n    </tr>\n    <tr>\n      <th>PTS</th>\n      <td>523751.0</td>\n      <td>9.640753</td>\n      <td>8.039700</td>\n      <td>0.0</td>\n      <td>3.00</td>\n      <td>8.000</td>\n      <td>14.000</td>\n      <td>81.0</td>\n    </tr>\n    <tr>\n      <th>PLUS_MINUS</th>\n      <td>500090.0</td>\n      <td>-0.000356</td>\n      <td>10.611897</td>\n      <td>-57.0</td>\n      <td>-7.00</td>\n      <td>0.000</td>\n      <td>6.000</td>\n      <td>57.0</td>\n    </tr>\n  </tbody>\n</table>\n</div>"
     },
     "execution_count": 6,
     "metadata": {},
     "output_type": "execute_result"
    }
   ],
   "source": [
    "df.drop([\"GAME_ID\", \"TEAM_ID\", \"PLAYER_ID\"], axis=1).describe().transpose()"
   ],
   "metadata": {
    "collapsed": false,
    "pycharm": {
     "name": "#%%\n"
    }
   }
  },
  {
   "cell_type": "markdown",
   "source": [
    "Removing the duplicated data from the dataset including players that might appear more that once"
   ],
   "metadata": {
    "collapsed": false
   }
  },
  {
   "cell_type": "code",
   "execution_count": 7,
   "outputs": [
    {
     "data": {
      "text/plain": "        GAME_ID     TEAM_ID TEAM_ABBREVIATION    TEAM_CITY  PLAYER_ID  \\\n23427  22000069  1610612763               MEM      Memphis    1628960   \n23428  22000069  1610612763               MEM      Memphis    1629007   \n23429  22000069  1610612763               MEM      Memphis    1630214   \n23430  22000069  1610612766               CHA    Charlotte    1630176   \n23431  22000069  1610612766               CHA    Charlotte    1628370   \n...         ...         ...               ...          ...        ...   \n40312  22000002  1610612747               LAL  Los Angeles       2544   \n40313  22000002  1610612747               LAL  Los Angeles     203484   \n40314  22000002  1610612747               LAL  Los Angeles     203471   \n40315  22000002  1610612747               LAL  Los Angeles    1628398   \n40316  22000002  1610612747               LAL  Los Angeles     202693   \n\n                    PLAYER_NAME NICKNAME START_POSITION  \\\n23427             Grayson Allen      NaN            NaN   \n23428             Jontay Porter      NaN            NaN   \n23429            Xavier Tillman      NaN            NaN   \n23430          Vernon Carey Jr.      NaN            NaN   \n23431                Malik Monk      NaN            NaN   \n...                         ...      ...            ...   \n40312              LeBron James      NaN              F   \n40313  Kentavious Caldwell-Pope      NaN              G   \n40314           Dennis Schroder      NaN              G   \n40315                Kyle Kuzma      NaN            NaN   \n40316           Markieff Morris      NaN            NaN   \n\n                      COMMENT    MIN  FGM   FGA  FG_PCT  FG3M  FG3A  FG3_PCT  \\\n23427    DNP - Injury/Illness    NaN  NaN   NaN     NaN   NaN   NaN      NaN   \n23428    DNP - Injury/Illness    NaN  NaN   NaN     NaN   NaN   NaN      NaN   \n23429    DNP - Injury/Illness    NaN  NaN   NaN     NaN   NaN   NaN      NaN   \n23430  DNP - Coach's Decision    NaN  NaN   NaN     NaN   NaN   NaN      NaN   \n23431  DNP - Coach's Decision    NaN  NaN   NaN     NaN   NaN   NaN      NaN   \n...                       ...    ...  ...   ...     ...   ...   ...      ...   \n40312                     NaN  28:21  7.0  17.0   0.412   3.0   8.0    0.375   \n40313                     NaN  23:03  2.0   4.0   0.500   1.0   3.0    0.333   \n40314                     NaN  27:48  5.0  15.0   0.333   2.0   5.0    0.400   \n40315                     NaN  26:38  6.0  11.0   0.545   1.0   3.0    0.333   \n40316                     NaN  19:00  1.0   3.0   0.333   1.0   2.0    0.500   \n\n       FTM  FTA  FT_PCT  OREB  DREB   REB  AST  STL  BLK   TO   PF   PTS  \\\n23427  NaN  NaN     NaN   NaN   NaN   NaN  NaN  NaN  NaN  NaN  NaN   NaN   \n23428  NaN  NaN     NaN   NaN   NaN   NaN  NaN  NaN  NaN  NaN  NaN   NaN   \n23429  NaN  NaN     NaN   NaN   NaN   NaN  NaN  NaN  NaN  NaN  NaN   NaN   \n23430  NaN  NaN     NaN   NaN   NaN   NaN  NaN  NaN  NaN  NaN  NaN   NaN   \n23431  NaN  NaN     NaN   NaN   NaN   NaN  NaN  NaN  NaN  NaN  NaN   NaN   \n...    ...  ...     ...   ...   ...   ...  ...  ...  ...  ...  ...   ...   \n40312  5.0  7.0   0.714   2.0   3.0   5.0  5.0  0.0  0.0  4.0  2.0  22.0   \n40313  4.0  4.0   1.000   0.0   2.0   2.0  1.0  2.0  1.0  2.0  2.0   9.0   \n40314  2.0  4.0   0.500   1.0  11.0  12.0  8.0  0.0  0.0  1.0  4.0  14.0   \n40315  2.0  2.0   1.000   0.0   1.0   1.0  0.0  0.0  0.0  2.0  2.0  15.0   \n40316  2.0  3.0   0.667   1.0   3.0   4.0  1.0  0.0  0.0  0.0  0.0   5.0   \n\n       PLUS_MINUS  \n23427         NaN  \n23428         NaN  \n23429         NaN  \n23430         NaN  \n23431         NaN  \n...           ...  \n40312         2.0  \n40313        -9.0  \n40314       -10.0  \n40315         1.0  \n40316        14.0  \n\n[324 rows x 29 columns]",
      "text/html": "<div>\n<style scoped>\n    .dataframe tbody tr th:only-of-type {\n        vertical-align: middle;\n    }\n\n    .dataframe tbody tr th {\n        vertical-align: top;\n    }\n\n    .dataframe thead th {\n        text-align: right;\n    }\n</style>\n<table border=\"1\" class=\"dataframe\">\n  <thead>\n    <tr style=\"text-align: right;\">\n      <th></th>\n      <th>GAME_ID</th>\n      <th>TEAM_ID</th>\n      <th>TEAM_ABBREVIATION</th>\n      <th>TEAM_CITY</th>\n      <th>PLAYER_ID</th>\n      <th>PLAYER_NAME</th>\n      <th>NICKNAME</th>\n      <th>START_POSITION</th>\n      <th>COMMENT</th>\n      <th>MIN</th>\n      <th>FGM</th>\n      <th>FGA</th>\n      <th>FG_PCT</th>\n      <th>FG3M</th>\n      <th>FG3A</th>\n      <th>FG3_PCT</th>\n      <th>FTM</th>\n      <th>FTA</th>\n      <th>FT_PCT</th>\n      <th>OREB</th>\n      <th>DREB</th>\n      <th>REB</th>\n      <th>AST</th>\n      <th>STL</th>\n      <th>BLK</th>\n      <th>TO</th>\n      <th>PF</th>\n      <th>PTS</th>\n      <th>PLUS_MINUS</th>\n    </tr>\n  </thead>\n  <tbody>\n    <tr>\n      <th>23427</th>\n      <td>22000069</td>\n      <td>1610612763</td>\n      <td>MEM</td>\n      <td>Memphis</td>\n      <td>1628960</td>\n      <td>Grayson Allen</td>\n      <td>NaN</td>\n      <td>NaN</td>\n      <td>DNP - Injury/Illness</td>\n      <td>NaN</td>\n      <td>NaN</td>\n      <td>NaN</td>\n      <td>NaN</td>\n      <td>NaN</td>\n      <td>NaN</td>\n      <td>NaN</td>\n      <td>NaN</td>\n      <td>NaN</td>\n      <td>NaN</td>\n      <td>NaN</td>\n      <td>NaN</td>\n      <td>NaN</td>\n      <td>NaN</td>\n      <td>NaN</td>\n      <td>NaN</td>\n      <td>NaN</td>\n      <td>NaN</td>\n      <td>NaN</td>\n      <td>NaN</td>\n    </tr>\n    <tr>\n      <th>23428</th>\n      <td>22000069</td>\n      <td>1610612763</td>\n      <td>MEM</td>\n      <td>Memphis</td>\n      <td>1629007</td>\n      <td>Jontay Porter</td>\n      <td>NaN</td>\n      <td>NaN</td>\n      <td>DNP - Injury/Illness</td>\n      <td>NaN</td>\n      <td>NaN</td>\n      <td>NaN</td>\n      <td>NaN</td>\n      <td>NaN</td>\n      <td>NaN</td>\n      <td>NaN</td>\n      <td>NaN</td>\n      <td>NaN</td>\n      <td>NaN</td>\n      <td>NaN</td>\n      <td>NaN</td>\n      <td>NaN</td>\n      <td>NaN</td>\n      <td>NaN</td>\n      <td>NaN</td>\n      <td>NaN</td>\n      <td>NaN</td>\n      <td>NaN</td>\n      <td>NaN</td>\n    </tr>\n    <tr>\n      <th>23429</th>\n      <td>22000069</td>\n      <td>1610612763</td>\n      <td>MEM</td>\n      <td>Memphis</td>\n      <td>1630214</td>\n      <td>Xavier Tillman</td>\n      <td>NaN</td>\n      <td>NaN</td>\n      <td>DNP - Injury/Illness</td>\n      <td>NaN</td>\n      <td>NaN</td>\n      <td>NaN</td>\n      <td>NaN</td>\n      <td>NaN</td>\n      <td>NaN</td>\n      <td>NaN</td>\n      <td>NaN</td>\n      <td>NaN</td>\n      <td>NaN</td>\n      <td>NaN</td>\n      <td>NaN</td>\n      <td>NaN</td>\n      <td>NaN</td>\n      <td>NaN</td>\n      <td>NaN</td>\n      <td>NaN</td>\n      <td>NaN</td>\n      <td>NaN</td>\n      <td>NaN</td>\n    </tr>\n    <tr>\n      <th>23430</th>\n      <td>22000069</td>\n      <td>1610612766</td>\n      <td>CHA</td>\n      <td>Charlotte</td>\n      <td>1630176</td>\n      <td>Vernon Carey Jr.</td>\n      <td>NaN</td>\n      <td>NaN</td>\n      <td>DNP - Coach's Decision</td>\n      <td>NaN</td>\n      <td>NaN</td>\n      <td>NaN</td>\n      <td>NaN</td>\n      <td>NaN</td>\n      <td>NaN</td>\n      <td>NaN</td>\n      <td>NaN</td>\n      <td>NaN</td>\n      <td>NaN</td>\n      <td>NaN</td>\n      <td>NaN</td>\n      <td>NaN</td>\n      <td>NaN</td>\n      <td>NaN</td>\n      <td>NaN</td>\n      <td>NaN</td>\n      <td>NaN</td>\n      <td>NaN</td>\n      <td>NaN</td>\n    </tr>\n    <tr>\n      <th>23431</th>\n      <td>22000069</td>\n      <td>1610612766</td>\n      <td>CHA</td>\n      <td>Charlotte</td>\n      <td>1628370</td>\n      <td>Malik Monk</td>\n      <td>NaN</td>\n      <td>NaN</td>\n      <td>DNP - Coach's Decision</td>\n      <td>NaN</td>\n      <td>NaN</td>\n      <td>NaN</td>\n      <td>NaN</td>\n      <td>NaN</td>\n      <td>NaN</td>\n      <td>NaN</td>\n      <td>NaN</td>\n      <td>NaN</td>\n      <td>NaN</td>\n      <td>NaN</td>\n      <td>NaN</td>\n      <td>NaN</td>\n      <td>NaN</td>\n      <td>NaN</td>\n      <td>NaN</td>\n      <td>NaN</td>\n      <td>NaN</td>\n      <td>NaN</td>\n      <td>NaN</td>\n    </tr>\n    <tr>\n      <th>...</th>\n      <td>...</td>\n      <td>...</td>\n      <td>...</td>\n      <td>...</td>\n      <td>...</td>\n      <td>...</td>\n      <td>...</td>\n      <td>...</td>\n      <td>...</td>\n      <td>...</td>\n      <td>...</td>\n      <td>...</td>\n      <td>...</td>\n      <td>...</td>\n      <td>...</td>\n      <td>...</td>\n      <td>...</td>\n      <td>...</td>\n      <td>...</td>\n      <td>...</td>\n      <td>...</td>\n      <td>...</td>\n      <td>...</td>\n      <td>...</td>\n      <td>...</td>\n      <td>...</td>\n      <td>...</td>\n      <td>...</td>\n      <td>...</td>\n    </tr>\n    <tr>\n      <th>40312</th>\n      <td>22000002</td>\n      <td>1610612747</td>\n      <td>LAL</td>\n      <td>Los Angeles</td>\n      <td>2544</td>\n      <td>LeBron James</td>\n      <td>NaN</td>\n      <td>F</td>\n      <td>NaN</td>\n      <td>28:21</td>\n      <td>7.0</td>\n      <td>17.0</td>\n      <td>0.412</td>\n      <td>3.0</td>\n      <td>8.0</td>\n      <td>0.375</td>\n      <td>5.0</td>\n      <td>7.0</td>\n      <td>0.714</td>\n      <td>2.0</td>\n      <td>3.0</td>\n      <td>5.0</td>\n      <td>5.0</td>\n      <td>0.0</td>\n      <td>0.0</td>\n      <td>4.0</td>\n      <td>2.0</td>\n      <td>22.0</td>\n      <td>2.0</td>\n    </tr>\n    <tr>\n      <th>40313</th>\n      <td>22000002</td>\n      <td>1610612747</td>\n      <td>LAL</td>\n      <td>Los Angeles</td>\n      <td>203484</td>\n      <td>Kentavious Caldwell-Pope</td>\n      <td>NaN</td>\n      <td>G</td>\n      <td>NaN</td>\n      <td>23:03</td>\n      <td>2.0</td>\n      <td>4.0</td>\n      <td>0.500</td>\n      <td>1.0</td>\n      <td>3.0</td>\n      <td>0.333</td>\n      <td>4.0</td>\n      <td>4.0</td>\n      <td>1.000</td>\n      <td>0.0</td>\n      <td>2.0</td>\n      <td>2.0</td>\n      <td>1.0</td>\n      <td>2.0</td>\n      <td>1.0</td>\n      <td>2.0</td>\n      <td>2.0</td>\n      <td>9.0</td>\n      <td>-9.0</td>\n    </tr>\n    <tr>\n      <th>40314</th>\n      <td>22000002</td>\n      <td>1610612747</td>\n      <td>LAL</td>\n      <td>Los Angeles</td>\n      <td>203471</td>\n      <td>Dennis Schroder</td>\n      <td>NaN</td>\n      <td>G</td>\n      <td>NaN</td>\n      <td>27:48</td>\n      <td>5.0</td>\n      <td>15.0</td>\n      <td>0.333</td>\n      <td>2.0</td>\n      <td>5.0</td>\n      <td>0.400</td>\n      <td>2.0</td>\n      <td>4.0</td>\n      <td>0.500</td>\n      <td>1.0</td>\n      <td>11.0</td>\n      <td>12.0</td>\n      <td>8.0</td>\n      <td>0.0</td>\n      <td>0.0</td>\n      <td>1.0</td>\n      <td>4.0</td>\n      <td>14.0</td>\n      <td>-10.0</td>\n    </tr>\n    <tr>\n      <th>40315</th>\n      <td>22000002</td>\n      <td>1610612747</td>\n      <td>LAL</td>\n      <td>Los Angeles</td>\n      <td>1628398</td>\n      <td>Kyle Kuzma</td>\n      <td>NaN</td>\n      <td>NaN</td>\n      <td>NaN</td>\n      <td>26:38</td>\n      <td>6.0</td>\n      <td>11.0</td>\n      <td>0.545</td>\n      <td>1.0</td>\n      <td>3.0</td>\n      <td>0.333</td>\n      <td>2.0</td>\n      <td>2.0</td>\n      <td>1.000</td>\n      <td>0.0</td>\n      <td>1.0</td>\n      <td>1.0</td>\n      <td>0.0</td>\n      <td>0.0</td>\n      <td>0.0</td>\n      <td>2.0</td>\n      <td>2.0</td>\n      <td>15.0</td>\n      <td>1.0</td>\n    </tr>\n    <tr>\n      <th>40316</th>\n      <td>22000002</td>\n      <td>1610612747</td>\n      <td>LAL</td>\n      <td>Los Angeles</td>\n      <td>202693</td>\n      <td>Markieff Morris</td>\n      <td>NaN</td>\n      <td>NaN</td>\n      <td>NaN</td>\n      <td>19:00</td>\n      <td>1.0</td>\n      <td>3.0</td>\n      <td>0.333</td>\n      <td>1.0</td>\n      <td>2.0</td>\n      <td>0.500</td>\n      <td>2.0</td>\n      <td>3.0</td>\n      <td>0.667</td>\n      <td>1.0</td>\n      <td>3.0</td>\n      <td>4.0</td>\n      <td>1.0</td>\n      <td>0.0</td>\n      <td>0.0</td>\n      <td>0.0</td>\n      <td>0.0</td>\n      <td>5.0</td>\n      <td>14.0</td>\n    </tr>\n  </tbody>\n</table>\n<p>324 rows × 29 columns</p>\n</div>"
     },
     "execution_count": 7,
     "metadata": {},
     "output_type": "execute_result"
    }
   ],
   "source": [
    "df[df.duplicated(subset=[\"GAME_ID\", \"PLAYER_ID\"], keep=\"first\")]"
   ],
   "metadata": {
    "collapsed": false,
    "pycharm": {
     "name": "#%%\n"
    }
   }
  },
  {
   "cell_type": "code",
   "execution_count": 9,
   "outputs": [],
   "source": [
    "df.drop_duplicates(subset=[\"GAME_ID\", \"PLAYER_ID\"], keep=\"first\", inplace=True)"
   ],
   "metadata": {
    "collapsed": false,
    "pycharm": {
     "name": "#%%\n"
    }
   }
  },
  {
   "cell_type": "markdown",
   "source": [
    "## Data Filling"
   ],
   "metadata": {
    "collapsed": false
   }
  },
  {
   "cell_type": "markdown",
   "source": [
    "We want to group up and sum the statistics for every player within each unique game played. We expect some columns to lose value by doing so especially player_id, the plus minus  and the shot percentage lose meaning. However some of these can be recalculated. This will remove some NaN value and some columns not really that important"
   ],
   "metadata": {
    "collapsed": false
   }
  },
  {
   "cell_type": "code",
   "execution_count": 10,
   "outputs": [],
   "source": [
    "df = df.groupby([\"GAME_ID\", \"TEAM_ID\"]).sum().reset_index().drop(['PLAYER_ID', 'FG_PCT','FG3_PCT','FT_PCT','PLUS_MINUS'], axis= 1)"
   ],
   "metadata": {
    "collapsed": false,
    "pycharm": {
     "name": "#%%\n"
    }
   }
  },
  {
   "cell_type": "code",
   "execution_count": 14,
   "outputs": [],
   "source": [
    "df[\"FG_PCT\"] = df[\"FGM\"]/df[\"FGA\"]*100\n",
    "df[\"FG3_PCT\"] = df[\"FG3M\"]/df[\"FG3A\"]*100\n",
    "df[\"FT_PCT\"] = df[\"FTM\"]/df[\"FTA\"]*100"
   ],
   "metadata": {
    "collapsed": false,
    "pycharm": {
     "name": "#%%\n"
    }
   }
  },
  {
   "cell_type": "markdown",
   "source": [
    "Removing anomalous data"
   ],
   "metadata": {
    "collapsed": false
   }
  },
  {
   "cell_type": "code",
   "execution_count": 23,
   "outputs": [
    {
     "name": "stdout",
     "output_type": "stream",
     "text": [
      "Dataset has 3 null values.\n",
      "\n",
      "There seems to a game with 3 unique rows.\n",
      "\n",
      "20701124    2\n",
      "21100481    2\n",
      "21200784    2\n",
      "21000146    2\n",
      "10500109    3\n",
      "Name: GAME_ID, dtype: int64\n"
     ]
    },
    {
     "data": {
      "text/plain": "      GAME_ID     TEAM_ID   FGM   FGA  FG3M  FG3A   FTM   FTA  OREB  DREB  \\\n334  10500109  1610612742  36.0  73.0   5.0  16.0  26.0  35.0  10.0  27.0   \n335  10500109  1610612756   0.0   0.0   0.0   0.0   0.0   0.0   0.0   0.0   \n336  10500109  1610612765  40.0  87.0   4.0   9.0  13.0  15.0  15.0  26.0   \n\n      REB   AST  STL   BLK    TO    PF    PTS     FG_PCT    FG3_PCT     FT_PCT  \n334  37.0  18.0  8.0   9.0  13.0  19.0  103.0  49.315068  31.250000  74.285714  \n335   0.0   0.0  0.0   0.0   0.0   0.0    0.0        NaN        NaN        NaN  \n336  41.0  20.0  7.0  11.0  13.0  29.0   97.0  45.977011  44.444444  86.666667  ",
      "text/html": "<div>\n<style scoped>\n    .dataframe tbody tr th:only-of-type {\n        vertical-align: middle;\n    }\n\n    .dataframe tbody tr th {\n        vertical-align: top;\n    }\n\n    .dataframe thead th {\n        text-align: right;\n    }\n</style>\n<table border=\"1\" class=\"dataframe\">\n  <thead>\n    <tr style=\"text-align: right;\">\n      <th></th>\n      <th>GAME_ID</th>\n      <th>TEAM_ID</th>\n      <th>FGM</th>\n      <th>FGA</th>\n      <th>FG3M</th>\n      <th>FG3A</th>\n      <th>FTM</th>\n      <th>FTA</th>\n      <th>OREB</th>\n      <th>DREB</th>\n      <th>REB</th>\n      <th>AST</th>\n      <th>STL</th>\n      <th>BLK</th>\n      <th>TO</th>\n      <th>PF</th>\n      <th>PTS</th>\n      <th>FG_PCT</th>\n      <th>FG3_PCT</th>\n      <th>FT_PCT</th>\n    </tr>\n  </thead>\n  <tbody>\n    <tr>\n      <th>334</th>\n      <td>10500109</td>\n      <td>1610612742</td>\n      <td>36.0</td>\n      <td>73.0</td>\n      <td>5.0</td>\n      <td>16.0</td>\n      <td>26.0</td>\n      <td>35.0</td>\n      <td>10.0</td>\n      <td>27.0</td>\n      <td>37.0</td>\n      <td>18.0</td>\n      <td>8.0</td>\n      <td>9.0</td>\n      <td>13.0</td>\n      <td>19.0</td>\n      <td>103.0</td>\n      <td>49.315068</td>\n      <td>31.250000</td>\n      <td>74.285714</td>\n    </tr>\n    <tr>\n      <th>335</th>\n      <td>10500109</td>\n      <td>1610612756</td>\n      <td>0.0</td>\n      <td>0.0</td>\n      <td>0.0</td>\n      <td>0.0</td>\n      <td>0.0</td>\n      <td>0.0</td>\n      <td>0.0</td>\n      <td>0.0</td>\n      <td>0.0</td>\n      <td>0.0</td>\n      <td>0.0</td>\n      <td>0.0</td>\n      <td>0.0</td>\n      <td>0.0</td>\n      <td>0.0</td>\n      <td>NaN</td>\n      <td>NaN</td>\n      <td>NaN</td>\n    </tr>\n    <tr>\n      <th>336</th>\n      <td>10500109</td>\n      <td>1610612765</td>\n      <td>40.0</td>\n      <td>87.0</td>\n      <td>4.0</td>\n      <td>9.0</td>\n      <td>13.0</td>\n      <td>15.0</td>\n      <td>15.0</td>\n      <td>26.0</td>\n      <td>41.0</td>\n      <td>20.0</td>\n      <td>7.0</td>\n      <td>11.0</td>\n      <td>13.0</td>\n      <td>29.0</td>\n      <td>97.0</td>\n      <td>45.977011</td>\n      <td>44.444444</td>\n      <td>86.666667</td>\n    </tr>\n  </tbody>\n</table>\n</div>"
     },
     "metadata": {},
     "output_type": "display_data"
    }
   ],
   "source": [
    "print (f\"Dataset has {df.isna().sum().sum()} null values.\\n\")\n",
    "print (\"There seems to a game with 3 unique rows.\\n\")\n",
    "\n",
    "print(df[\"GAME_ID\"].value_counts().sort_values().tail())\n",
    "\n",
    "display(df[df[\"GAME_ID\"] == 10500109])\n",
    "\n",
    "#dropping this row due for data readability\n",
    "df = df.drop(index=335, axis=0).reset_index().drop(\"index\", axis=1)"
   ],
   "metadata": {
    "collapsed": false,
    "pycharm": {
     "name": "#%%\n"
    }
   }
  },
  {
   "cell_type": "markdown",
   "source": [
    "We need to develop a \"victory\" label to develop our ML model. Also need to factor in miss data entire due to instances where the games tie and have to go into overtime."
   ],
   "metadata": {
    "collapsed": false
   }
  },
  {
   "cell_type": "markdown",
   "source": [
    "The \"victory\" labels is calculated by comparing the point made in a unique game and defining it as a  \"Yes\" or \"No\""
   ],
   "metadata": {
    "collapsed": false
   }
  },
  {
   "cell_type": "code",
   "execution_count": null,
   "outputs": [],
   "source": [
    "# sort the datafrome by GAME_Id to avoid in the following code to define the victory label\n",
    "df = df.sort_values(\"GAME_ID\")\n",
    "df[\"VICTORY\"] = \"\"\n",
    "\n",
    "#check for victory condition and update the \"Victory\" column\n",
    "for i in range(0, len(df)-1, 2):\n",
    "    if df[\"PTS\"][i] > df[\"PTS\"][i+1]:\n",
    "        df.loc[i, \"VICTORY\"] = \"YES\"\n",
    "        df.loc[i+1, \"VICTORY\"] = \"NO\"\n",
    "    elif df[\"PTS\"][i] < df[\"PTS\"][i+1]:\n",
    "        df.loc[i, \"VICTORY\"] = \"NO\"\n",
    "        df.loc[i+1, \"VICTORY\"] = \"YES\"\n",
    "    else:\n",
    "        print(\"Potential Tie game\")\n",
    "        "
   ],
   "metadata": {
    "collapsed": false,
    "pycharm": {
     "name": "#%%\n"
    }
   }
  },
  {
   "cell_type": "markdown",
   "source": [],
   "metadata": {
    "collapsed": false
   }
  },
  {
   "cell_type": "markdown",
   "source": [
    "## Exploratory Data Analysis\n"
   ],
   "metadata": {
    "collapsed": false
   }
  },
  {
   "cell_type": "markdown",
   "source": [
    "## Hypothesis Builiding"
   ],
   "metadata": {
    "collapsed": false
   }
  },
  {
   "cell_type": "markdown",
   "source": [
    "## Feature Engineering & Selection\n"
   ],
   "metadata": {
    "collapsed": false
   }
  },
  {
   "cell_type": "markdown",
   "source": [
    "## ML Model Selection"
   ],
   "metadata": {
    "collapsed": false
   }
  },
  {
   "cell_type": "markdown",
   "source": [
    "## ML Fit & Training"
   ],
   "metadata": {
    "collapsed": false
   }
  },
  {
   "cell_type": "markdown",
   "source": [
    "## ML Validation Testing"
   ],
   "metadata": {
    "collapsed": false
   }
  },
  {
   "cell_type": "markdown",
   "source": [
    "## ML Prediction and Analysis"
   ],
   "metadata": {
    "collapsed": false
   }
  },
  {
   "cell_type": "code",
   "execution_count": null,
   "outputs": [],
   "source": [],
   "metadata": {
    "collapsed": false,
    "pycharm": {
     "name": "#%%\n"
    }
   }
  }
 ],
 "metadata": {
  "kernelspec": {
   "display_name": "Python 3",
   "language": "python",
   "name": "python3"
  },
  "language_info": {
   "codemirror_mode": {
    "name": "ipython",
    "version": 2
   },
   "file_extension": ".py",
   "mimetype": "text/x-python",
   "name": "python",
   "nbconvert_exporter": "python",
   "pygments_lexer": "ipython2",
   "version": "2.7.6"
  }
 },
 "nbformat": 4,
 "nbformat_minor": 0
}